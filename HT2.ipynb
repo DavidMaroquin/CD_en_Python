{
 "cells": [
  {
   "cell_type": "code",
   "execution_count": 1,
   "metadata": {},
   "outputs": [],
   "source": [
    "import numpy as np\n",
    "import pandas as pd\n",
    "import matplotlib.pyplot as plt"
   ]
  },
  {
   "attachments": {},
   "cell_type": "markdown",
   "metadata": {},
   "source": [
    "### 1. Ejercicio"
   ]
  },
  {
   "cell_type": "code",
   "execution_count": 2,
   "metadata": {},
   "outputs": [
    {
     "name": "stdout",
     "output_type": "stream",
     "text": [
      "Los 10 segundos se convierten a 00:00:10\n",
      "Los 100 segundos se convierten a 00:01:40\n",
      "Los 40 segundos se convierten a 00:00:40\n",
      "Los 1500 segundos se convierten a 00:25:00\n",
      "Los 6000 segundos se convierten a 01:40:00\n",
      "Los 60 segundos se convierten a 00:01:00\n",
      "Los 59 segundos se convierten a 00:00:59\n",
      "Los 100000 segundos se convierten a 27:46:40\n",
      "Los 2743 segundos se convierten a 00:45:43\n",
      "Los 5871 segundos se convierten a 01:37:51\n"
     ]
    }
   ],
   "source": [
    "def segundos_a_segundos_minutos_y_horas(segundos):\n",
    "    horas = int(segundos / 60 / 60)\n",
    "    segundos -= horas*60*60\n",
    "    minutos = int(segundos/60)\n",
    "    segundos -= minutos*60\n",
    "    return f\"{horas:02d}:{minutos:02d}:{segundos:02d}\"\n",
    "\n",
    "segundos = [10, 100, 40, 1500, 6000, 60, 59, 100000, 2743, 5871]\n",
    "for cantidad_segundos in segundos:\n",
    "    convertido = segundos_a_segundos_minutos_y_horas(cantidad_segundos)\n",
    "    print(f\"Los {cantidad_segundos} segundos se convierten a {convertido}\")"
   ]
  },
  {
   "attachments": {},
   "cell_type": "markdown",
   "metadata": {},
   "source": [
    "### 2 Ejercicio "
   ]
  },
  {
   "cell_type": "code",
   "execution_count": 20,
   "metadata": {},
   "outputs": [
    {
     "name": "stdout",
     "output_type": "stream",
     "text": [
      "\n",
      "*\n",
      "**\n",
      "***\n",
      "****\n",
      "    \n",
      "   *\n",
      "  **\n",
      " ***\n",
      "****\n",
      "    \n",
      "  *\n"
     ]
    }
   ],
   "source": [
    "n= int(input(\"introduce la cantidad de renglones\"))\n",
    "for i in range(n+1):\n",
    "    print('*'*i)\n",
    "\n",
    "for i in range(n+1):\n",
    "    espacios=n-i\n",
    "    print(' '*espacios+'*'*i)\n",
    "\n",
    "for i in range(n-1-1):\n",
    "    espacios=n-i-i\n",
    "    print(' '*espacios+'*'*i)"
   ]
  },
  {
   "cell_type": "code",
   "execution_count": 26,
   "metadata": {},
   "outputs": [
    {
     "name": "stdout",
     "output_type": "stream",
     "text": [
      "*\n",
      "**\n",
      "***\n",
      "****\n",
      "\n",
      "\n"
     ]
    },
    {
     "ename": "TypeError",
     "evalue": "'str' object cannot be interpreted as an integer",
     "output_type": "error",
     "traceback": [
      "\u001b[1;31m---------------------------------------------------------------------------\u001b[0m",
      "\u001b[1;31mTypeError\u001b[0m                                 Traceback (most recent call last)",
      "\u001b[1;32m~\\AppData\\Local\\Temp\\ipykernel_14756\\2811706000.py\u001b[0m in \u001b[0;36m<module>\u001b[1;34m\u001b[0m\n\u001b[0;32m     12\u001b[0m \u001b[1;33m\u001b[0m\u001b[0m\n\u001b[0;32m     13\u001b[0m \u001b[0mx\u001b[0m\u001b[1;33m=\u001b[0m\u001b[0mint\u001b[0m\u001b[1;33m(\u001b[0m\u001b[0minput\u001b[0m\u001b[1;33m(\u001b[0m\u001b[1;34m\"Introduce un número: \"\u001b[0m\u001b[1;33m)\u001b[0m\u001b[1;33m)\u001b[0m\u001b[1;33m\u001b[0m\u001b[1;33m\u001b[0m\u001b[0m\n\u001b[1;32m---> 14\u001b[1;33m \u001b[0mtriangulo\u001b[0m\u001b[1;33m(\u001b[0m\u001b[0mx\u001b[0m\u001b[1;33m)\u001b[0m\u001b[1;33m\u001b[0m\u001b[1;33m\u001b[0m\u001b[0m\n\u001b[0m",
      "\u001b[1;32m~\\AppData\\Local\\Temp\\ipykernel_14756\\2811706000.py\u001b[0m in \u001b[0;36mtriangulo\u001b[1;34m(x)\u001b[0m\n\u001b[0;32m      6\u001b[0m     \u001b[0mprint\u001b[0m\u001b[1;33m(\u001b[0m\u001b[1;34m\"\\n\"\u001b[0m\u001b[1;33m)\u001b[0m\u001b[1;33m\u001b[0m\u001b[1;33m\u001b[0m\u001b[0m\n\u001b[0;32m      7\u001b[0m \u001b[1;33m\u001b[0m\u001b[0m\n\u001b[1;32m----> 8\u001b[1;33m     \u001b[1;32mfor\u001b[0m \u001b[0mi\u001b[0m \u001b[1;32min\u001b[0m \u001b[0mrange\u001b[0m\u001b[1;33m(\u001b[0m\u001b[0mx\u001b[0m\u001b[1;33m,\u001b[0m\u001b[1;34m'0'\u001b[0m\u001b[1;33m,\u001b[0m\u001b[1;33m-\u001b[0m\u001b[1;36m1\u001b[0m\u001b[1;33m)\u001b[0m\u001b[1;33m:\u001b[0m\u001b[1;33m\u001b[0m\u001b[1;33m\u001b[0m\u001b[0m\n\u001b[0m\u001b[0;32m      9\u001b[0m         \u001b[1;32mfor\u001b[0m \u001b[0mj\u001b[0m \u001b[1;32min\u001b[0m \u001b[0mrange\u001b[0m\u001b[1;33m(\u001b[0m\u001b[1;36m0\u001b[0m\u001b[1;33m,\u001b[0m\u001b[0mi\u001b[0m\u001b[1;33m,\u001b[0m\u001b[1;36m1\u001b[0m\u001b[1;33m)\u001b[0m\u001b[1;33m:\u001b[0m\u001b[1;33m\u001b[0m\u001b[1;33m\u001b[0m\u001b[0m\n\u001b[0;32m     10\u001b[0m             \u001b[0mprint\u001b[0m\u001b[1;33m(\u001b[0m\u001b[1;34m\"*\"\u001b[0m\u001b[1;33m,\u001b[0m\u001b[0mend\u001b[0m\u001b[1;33m=\u001b[0m\u001b[1;34m\"\"\u001b[0m\u001b[1;33m)\u001b[0m\u001b[1;33m\u001b[0m\u001b[1;33m\u001b[0m\u001b[0m\n",
      "\u001b[1;31mTypeError\u001b[0m: 'str' object cannot be interpreted as an integer"
     ]
    }
   ],
   "source": [
    "def triangulo(x):\n",
    "    for i in range(0,x,1):\n",
    "        for j in range(0,i+1,1):\n",
    "            print(\"*\",end=\"\")\n",
    "        print(\"\")\n",
    "    print(\"\\n\")\n",
    "\n",
    "    for i in range(x,'0',-1):\n",
    "        for j in range(0,i,1):\n",
    "            print(\"*\",end=\"\")\n",
    "        print(\"\")\n",
    "\n",
    "x=int(input(\"Introduce un número: \"))\n",
    "triangulo(x)"
   ]
  },
  {
   "cell_type": "code",
   "execution_count": 35,
   "metadata": {},
   "outputs": [
    {
     "name": "stdout",
     "output_type": "stream",
     "text": [
      "*\n",
      "**\n",
      "***\n",
      "****\n",
      "\n",
      "****\n",
      "***\n",
      "**\n",
      "*\n",
      "    \n",
      "   *\n",
      "  **\n",
      " ***\n",
      "****\n",
      "\n",
      "****\n",
      " ***\n",
      "  **\n",
      "   *\n"
     ]
    }
   ],
   "source": [
    "def triangulo(x):\n",
    "    for i in range(0,x,1):\n",
    "        for j in range(0,i+1,1):\n",
    "            print(\"*\",end=\"\")\n",
    "        print(\"\")\n",
    "    print(\"\") \n",
    "\n",
    "    for i in range(x,0,-1):\n",
    "        for j in range(0,i,1):\n",
    "            print(\"*\",end=\"\")\n",
    "        print(\"\")\n",
    "\n",
    "    for i in range(x,-1,-1):\n",
    "        for j in range(i):\n",
    "            print(\" \", end=\"\")\n",
    "        for k in range(i,x):\n",
    "            print(\"*\", end=\"\")\n",
    "        print(\"\")\n",
    "    print(\"\")\n",
    "\n",
    "    for i in range(x-1,-1,-1):\n",
    "        for j in range(x- i -1):\n",
    "            print(\" \", end=\"\")\n",
    "        for k in range(i+1):\n",
    "            print(\"*\", end=\"\")\n",
    "        print(\"\")\n",
    "\n",
    "x=int(input(\"Ingresar el número filas\")) \n",
    "triangulo(x)"
   ]
  },
  {
   "attachments": {},
   "cell_type": "markdown",
   "metadata": {},
   "source": [
    "### 3. Haga un programa en Python que la fecha de nacimiento de una persona (puede ingresar por separado cada valor, es decir pedir primero d´ıa, luego mes y luego a˜no), despliegue la edad de la persona en años, meses y días. Su resultado puede ser aproximado."
   ]
  },
  {
   "cell_type": "code",
   "execution_count": 39,
   "metadata": {},
   "outputs": [
    {
     "ename": "SyntaxError",
     "evalue": "invalid syntax (1675682303.py, line 6)",
     "output_type": "error",
     "traceback": [
      "\u001b[1;36m  File \u001b[1;32m\"C:\\Users\\haroldo.marroquin\\AppData\\Local\\Temp\\ipykernel_14756\\1675682303.py\"\u001b[1;36m, line \u001b[1;32m6\u001b[0m\n\u001b[1;33m    except\u001b[0m\n\u001b[1;37m          ^\u001b[0m\n\u001b[1;31mSyntaxError\u001b[0m\u001b[1;31m:\u001b[0m invalid syntax\n"
     ]
    }
   ],
   "source": [
    "fechaA = input (\"ingresa fecha de nacimiento (dd/mm/yyyy): \")\n",
    "\n",
    "try:\n",
    "    from datetime import datetime\n",
    "    fechaA - datetime.strptime(fechaA, '%d/%m/%Y')\n",
    "except:"
   ]
  },
  {
   "cell_type": "code",
   "execution_count": 40,
   "metadata": {},
   "outputs": [
    {
     "name": "stdout",
     "output_type": "stream",
     "text": [
      "35 Años 6 Meses 16 Dias\n"
     ]
    }
   ],
   "source": [
    "fechaF = input(\"ingrese fecha de nacimiento (dd/mm/yyyy): \")\n",
    "\n",
    "#Validacion de la fecha de nacimiento\n",
    "try:\n",
    "    from datetime import datetime\n",
    "    fechaF = datetime.strptime(fechaF, '%d/%m/%Y')\n",
    "except:\n",
    "    print(\"La fecha ingresa no es la correcta el formato debe ser (dd/mm/yyyy)\")\n",
    "    exit()\n",
    "\n",
    "anioF = fechaF.year\n",
    "mesF = fechaF.month\n",
    "diaF = fechaF.day\n",
    "\n",
    "#Fecha actual \"Hoy\"\n",
    "fechaH = datetime.today()\n",
    "\n",
    "anioH = fechaH.year\n",
    "mesH = fechaH.month\n",
    "diaH = fechaH.day\n",
    "\n",
    "mesAdicional = 0\n",
    "if (diaF > diaH):\n",
    "    import calendar\n",
    "    ultimodia = calendar.monthrange(anioF, mesF)[1]\n",
    "    diaH = diaH + ultimodia\n",
    "    mesAdicional = 1\n",
    "dias = diaH - diaF\n",
    "\n",
    "anioAdicional = 0\n",
    "if (mesF > mesH):\n",
    "    mesH = mesH + 12\n",
    "    anioAdicional = 1\n",
    "\n",
    "meses = mesH - (mesF + mesAdicional)\n",
    "anios = anioH - (anioF + anioAdicional)\n",
    "\n",
    "print(str(anios)+ \" Años \"+str(meses)+\" Meses \"+str(dias) +\" Dias\")"
   ]
  },
  {
   "attachments": {},
   "cell_type": "markdown",
   "metadata": {},
   "source": [
    "### 4. Escriba una función en Python que dada una tupla de elementos (numeros o letras) esta se convierta a un string."
   ]
  },
  {
   "cell_type": "code",
   "execution_count": 45,
   "metadata": {},
   "outputs": [
    {
     "name": "stdout",
     "output_type": "stream",
     "text": [
      "<class 'str'>\n",
      "102040570\n"
     ]
    }
   ],
   "source": [
    "letras= ('10', '20','40','5','70')\n",
    "\n",
    "python =''.join(letras)\n",
    "\n",
    "print(type(python))\n",
    "print(python)"
   ]
  },
  {
   "attachments": {},
   "cell_type": "markdown",
   "metadata": {},
   "source": [
    "### 5. Cree un programa en Python que dada una lista de tuplas, elimine las tuplas que están vacías."
   ]
  },
  {
   "cell_type": "code",
   "execution_count": 52,
   "metadata": {},
   "outputs": [
    {
     "name": "stdout",
     "output_type": "stream",
     "text": [
      "[(), (), ('X',), ('a', 'b'), ('a', 'b', 'c'), 'd']\n",
      "[('X',), ('a', 'b'), ('a', 'b', 'c'), 'd']\n"
     ]
    }
   ],
   "source": [
    "tupla = [(), (), ('X',), ('a','b'), ('a','b','c'), ('d')]\n",
    "print(tupla)\n",
    "\n",
    "tupla = [t for t in tupla if t]\n",
    "print(tupla)\n",
    "\n"
   ]
  },
  {
   "attachments": {},
   "cell_type": "markdown",
   "metadata": {},
   "source": [
    "### 6. Cree una función en Python que dada una tupla de tuplas con números, produzca una tupla con el promedio de cada tupla individual."
   ]
  },
  {
   "cell_type": "code",
   "execution_count": 55,
   "metadata": {},
   "outputs": [
    {
     "name": "stdout",
     "output_type": "stream",
     "text": [
      "¿Cantidad de números que ingresaras?\n",
      "Valor número:  1\n",
      "Valor número:  2\n",
      "Valor número:  3\n",
      "Valor número:  4\n",
      "Valor número:  5\n",
      "Promedio: 96.2\n"
     ]
    }
   ],
   "source": [
    "nums = []\n",
    "print(\"¿Cantidad de números que ingresaras?\")\n",
    "n = int(input())\n",
    "i = 0\n",
    "while i < n:\n",
    "    print(\"Número: \", i+1)\n",
    "    val = float (input())\n",
    "    nums.append(val)\n",
    "    i+=1\n",
    "prom = sum(nums) / len(nums)\n",
    "print(\"Promedio:\",prom)"
   ]
  },
  {
   "attachments": {},
   "cell_type": "markdown",
   "metadata": {},
   "source": [
    "### 7. Crear una factura con cuatro digitos en un dicicionario."
   ]
  },
  {
   "cell_type": "code",
   "execution_count": 1,
   "metadata": {},
   "outputs": [
    {
     "name": "stdout",
     "output_type": "stream",
     "text": [
      "Seleccione una opción \n",
      "1:añadir(presione 1)\n",
      " 2: Pagar Factura (presione 2)\n",
      " 3:Terminar\n",
      "{'357': 200.0}\n",
      "Seleccione una opción \n",
      "1:añadir(presione 1)\n",
      " 2: Pagar Factura (presione 2)\n",
      " 3:Terminar\n",
      "no se encontró el número de factura\n",
      "Seleccione una opción \n",
      "1:añadir(presione 1)\n",
      " 2: Pagar Factura (presione 2)\n",
      " 3:Terminar\n",
      "{'357': 200.0, '5477': 23.0}\n",
      "Seleccione una opción \n",
      "1:añadir(presione 1)\n",
      " 2: Pagar Factura (presione 2)\n",
      " 3:Terminar\n"
     ]
    }
   ],
   "source": [
    "factura=dict()\n",
    "while True:\n",
    "    print('Seleccione una opción ')\n",
    "    print('1:añadir(presione 1)\\n 2: Pagar Factura (presione 2)\\n 3:Terminar')\n",
    "    opcion = int(input())\n",
    "    if opcion == 1:\n",
    "        n_factura = str(input('ingresar número de factura: '))\n",
    "        c_factura= float(input('ingresar el coste de la factura: '))\n",
    "        valor = factura.setdefault(n_factura,c_factura)\n",
    "        print(factura)\n",
    "    elif opcion == 2:\n",
    "        preguntar = str(input('ingresar numero de factura para efectuar pago '))\n",
    "        verificar = factura.get(preguntar) \n",
    "        if verificar!=None:\n",
    "            eliminar =factura.pop(preguntar)\n",
    "        else:\n",
    "            print('no se encontró el número de factura')\n",
    "            continue\n",
    "    elif opcion == 3:\n",
    "        break\n"
   ]
  }
 ],
 "metadata": {
  "kernelspec": {
   "display_name": "clasemiercoles",
   "language": "python",
   "name": "python3"
  },
  "language_info": {
   "codemirror_mode": {
    "name": "ipython",
    "version": 3
   },
   "file_extension": ".py",
   "mimetype": "text/x-python",
   "name": "python",
   "nbconvert_exporter": "python",
   "pygments_lexer": "ipython3",
   "version": "3.9.7"
  },
  "orig_nbformat": 4
 },
 "nbformat": 4,
 "nbformat_minor": 2
}
